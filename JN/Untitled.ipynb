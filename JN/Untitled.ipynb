{
 "cells": [
  {
   "cell_type": "code",
   "execution_count": 1,
   "id": "e92f1951-65b3-4105-924c-65a09bf0fa42",
   "metadata": {},
   "outputs": [],
   "source": [
    "nifty_50_symbols = [\n",
    "    \"RELIANCE.NS\", \"TCS.NS\", \"HDFCBANK.NS\", \"INFY.NS\", \"HINDUNILVR.NS\",\n",
    "    \"ICICIBANK.NS\", \"KOTAKBANK.NS\", \"LT.NS\", \"SBIN.NS\", \"ITC.NS\",\n",
    "    \"AXISBANK.NS\", \"HCLTECH.NS\", \"BHARTIARTL.NS\", \"ASIANPAINT.NS\", \"ONGC.NS\",\n",
    "    \"WIPRO.NS\", \"HDFC.NS\", \"ULTRACEMCO.NS\", \"TATAMOTORS.NS\", \"MARUTI.NS\",\n",
    "    \"M&M.NS\", \"CIPLA.NS\", \"ADANIGREEN.NS\", \"GRASIM.NS\", \"TATACONSUM.NS\",\n",
    "    \"TATASTEEL.NS\", \"DIVISLAB.NS\", \"POWERGRID.NS\", \"SUNPHARMA.NS\", \"NTPC.NS\",\n",
    "    \"TECHM.NS\", \"HDFCLIFE.NS\", \"JSWSTEEL.NS\", \"DRREDDY.NS\", \"BAJFINANCE.NS\",\n",
    "    \"BAJAJFINSV.NS\", \"SBILIFE.NS\", \"EICHERMOT.NS\", \"MCDOWELL-N.NS\", \"HEROMOTOCO.NS\",\n",
    "    \"BHA.NS\", \"HINDALCO.NS\", \"PVR.NS\", \"SBI.NS\", \"LUPIN.NS\",\n",
    "    \"COALINDIA.NS\", \"ZOMATO.NS\", \"MOTHERSON.NS\", \"BANDHANBANK.NS\", \"HAVELLS.NS\"\n",
    "]\n"
   ]
  },
  {
   "cell_type": "code",
   "execution_count": 2,
   "id": "c856ac79-5609-4149-b1f0-f2179653b86b",
   "metadata": {},
   "outputs": [],
   "source": [
    "#!pip install yfinance"
   ]
  },
  {
   "cell_type": "code",
   "execution_count": 3,
   "id": "60e87d32-56f5-4fe2-9ac2-86385e517500",
   "metadata": {},
   "outputs": [],
   "source": [
    "import yfinance as yf\n",
    "from datetime import datetime, timedelta\n",
    "import pandas as pd\n",
    "\n",
    "stock_symbols = nifty_50_symbols\n",
    "def fetch_historical_data(symbols, start_date, end_date):\n",
    "    all_data = {}\n",
    "    for symbol in symbols:\n",
    "        stock = yf.Ticker(symbol)\n",
    "        data = stock.history(start=start_date, end=end_date)\n",
    "        all_data[symbol] = data\n",
    "    return all_data\n",
    "\n",
    "def fetch_daily_data(symbols):\n",
    "    daily_data = {}\n",
    "    today = datetime.today().date()\n",
    "    for symbol in symbols:\n",
    "        stock = yf.Ticker(symbol)\n",
    "        data = stock.history(start=today, end=today + timedelta(days=1))  # Use timedelta directly\n",
    "        daily_data[symbol] = data\n",
    "        print(daily_data)\n",
    "    return daily_data\n"
   ]
  },
  {
   "cell_type": "code",
   "execution_count": 4,
   "id": "a935c620-f4a3-4163-b4fb-50fd6904b0a1",
   "metadata": {},
   "outputs": [],
   "source": [
    "# data = fetch_historical_data([\"TCS.NS\"],'2023-01-01','2024-01-01')\n",
    "# df =pd.DataFrame(data[\"TCS.NS\"])\n",
    "# df.to_csv(\"test.csv\")"
   ]
  },
  {
   "cell_type": "markdown",
   "id": "273707e3-833d-4cd3-9d10-8b2ab7b25e1e",
   "metadata": {},
   "source": [
    "# Integration With Google Drive"
   ]
  },
  {
   "cell_type": "code",
   "execution_count": 5,
   "id": "14cecf00-d686-4316-8168-f917ac6f482e",
   "metadata": {},
   "outputs": [],
   "source": [
    "#!pip install google-api-python-client google-auth-httplib2 google-auth-oauthlib"
   ]
  },
  {
   "cell_type": "code",
   "execution_count": 6,
   "id": "99d51a77-c0b0-45d9-89da-2be137548ed4",
   "metadata": {},
   "outputs": [],
   "source": [
    "from google.oauth2 import service_account\n",
    "from googleapiclient.discovery import build\n",
    "from googleapiclient.http import MediaFileUpload"
   ]
  },
  {
   "cell_type": "code",
   "execution_count": 7,
   "id": "fdef38ec-015a-440a-96d0-b48542cd09b1",
   "metadata": {},
   "outputs": [],
   "source": [
    "def upload_to_drive(file_path, file_name):\n",
    "    SERVICE_ACCOUNT_FILE ='credentials.json'\n",
    "    FOLDER_ID = '1ivPxQsSmbUzjOaREkvULQ27LNpi5L-Tn'\n",
    "    SCOPES = ['https://www.googleapis.com/auth/drive.file']\n",
    "    credentials = service_account.Credentials.from_service_account_file(\n",
    "    SERVICE_ACCOUNT_FILE, scopes=SCOPES)\n",
    "    service = build('drive', 'v3', credentials=credentials)\n",
    "    file_metadata = {\n",
    "        'name': file_name,\n",
    "        'parents': [FOLDER_ID] if FOLDER_ID else []\n",
    "    }\n",
    "    media = MediaFileUpload(file_path, resumable=True)\n",
    "    request = service.files().create(\n",
    "        body=file_metadata,\n",
    "        media_body=media,\n",
    "        fields='id'\n",
    "    )\n",
    "    response = request.execute()\n",
    "    print(f'File ID: {response.get(\"id\")}')"
   ]
  },
  {
   "cell_type": "markdown",
   "id": "a199b9cf-c7d7-4770-8a33-15b76a6724ac",
   "metadata": {},
   "source": [
    "# Get Uploaded File Meta Data"
   ]
  },
  {
   "cell_type": "code",
   "execution_count": 8,
   "id": "02abd9e5-8467-4c7e-96b9-d6d6af28b1be",
   "metadata": {},
   "outputs": [
    {
     "ename": "NameError",
     "evalue": "name 'SERVICE_ACCOUNT_FILE' is not defined",
     "output_type": "error",
     "traceback": [
      "\u001b[1;31m---------------------------------------------------------------------------\u001b[0m",
      "\u001b[1;31mNameError\u001b[0m                                 Traceback (most recent call last)",
      "Cell \u001b[1;32mIn[8], line 5\u001b[0m\n\u001b[0;32m      2\u001b[0m FILE_ID \u001b[38;5;241m=\u001b[39m \u001b[38;5;124m'\u001b[39m\u001b[38;5;124m1bJ308_gAS9uXjr3cIpPUOs121PmicSzD\u001b[39m\u001b[38;5;124m'\u001b[39m\n\u001b[0;32m      3\u001b[0m SCOPES \u001b[38;5;241m=\u001b[39m [\u001b[38;5;124m'\u001b[39m\u001b[38;5;124mhttps://www.googleapis.com/auth/drive.readonly\u001b[39m\u001b[38;5;124m'\u001b[39m]\n\u001b[0;32m      4\u001b[0m credentials \u001b[38;5;241m=\u001b[39m service_account\u001b[38;5;241m.\u001b[39mCredentials\u001b[38;5;241m.\u001b[39mfrom_service_account_file(\n\u001b[1;32m----> 5\u001b[0m     \u001b[43mSERVICE_ACCOUNT_FILE\u001b[49m, scopes\u001b[38;5;241m=\u001b[39mSCOPES)\n\u001b[0;32m      7\u001b[0m \u001b[38;5;66;03m# Build the Google Drive service\u001b[39;00m\n\u001b[0;32m      8\u001b[0m service \u001b[38;5;241m=\u001b[39m build(\u001b[38;5;124m'\u001b[39m\u001b[38;5;124mdrive\u001b[39m\u001b[38;5;124m'\u001b[39m, \u001b[38;5;124m'\u001b[39m\u001b[38;5;124mv3\u001b[39m\u001b[38;5;124m'\u001b[39m, credentials\u001b[38;5;241m=\u001b[39mcredentials)\n",
      "\u001b[1;31mNameError\u001b[0m: name 'SERVICE_ACCOUNT_FILE' is not defined"
     ]
    }
   ],
   "source": [
    "# Define the scope and credentials\n",
    "FILE_ID = '1bJ308_gAS9uXjr3cIpPUOs121PmicSzD'\n",
    "SCOPES = ['https://www.googleapis.com/auth/drive.readonly']\n",
    "credentials = service_account.Credentials.from_service_account_file(\n",
    "    SERVICE_ACCOUNT_FILE, scopes=SCOPES)\n",
    "\n",
    "# Build the Google Drive service\n",
    "service = build('drive', 'v3', credentials=credentials)\n",
    "\n",
    "def get_file_metadata(file_id):\n",
    "    request = service.files().get(fileId=file_id, fields='id, name, mimeType, webViewLink').execute()\n",
    "    return request\n",
    "\n",
    "# Get file metadata\n",
    "file_metadata = get_file_metadata(FILE_ID)\n",
    "print(\"File ID:\", file_metadata.get('id'))\n",
    "print(\"File Name:\", file_metadata.get('name'))\n",
    "print(\"MIME Type:\", file_metadata.get('mimeType'))\n",
    "print(\"View Link:\", file_metadata.get('webViewLink'))"
   ]
  },
  {
   "cell_type": "code",
   "execution_count": 66,
   "id": "7631fe2e-3ab9-48aa-925b-b3b11f7f3ce9",
   "metadata": {},
   "outputs": [
    {
     "name": "stderr",
     "output_type": "stream",
     "text": [
      "$HDFC.NS: possibly delisted; no timezone found\n",
      "$MCDOWELL-N.NS: possibly delisted; no timezone found\n",
      "$BHA.NS: possibly delisted; no timezone found\n",
      "$PVR.NS: possibly delisted; no timezone found\n",
      "$SBI.NS: possibly delisted; no price data found  (1d 2023-01-01 -> 2024-08-25)\n",
      "$BANDHANBANK.NS: possibly delisted; no timezone found\n"
     ]
    }
   ],
   "source": [
    "# Fetch data from start_date to today\n",
    "start_date = '2023-01-01'\n",
    "end_date = pd.to_datetime('today').strftime('%Y-%m-%d')\n",
    "historical_data = fetch_historical_data(stock_symbols, start_date, end_date)\n",
    "\n",
    "# Save historical data to a CSV or database\n",
    "for symbol, data in historical_data.items():\n",
    "    data.to_csv(f\"{symbol}_historical.csv\")"
   ]
  },
  {
   "cell_type": "code",
   "execution_count": 9,
   "id": "741acfc2-6b12-4e33-8ba3-4e35623d4326",
   "metadata": {},
   "outputs": [],
   "source": [
    "import os\n",
    "current_directory = os.getcwd()\n",
    "exclude_names = {'Untitled.ipynb', 'img.jpg', 'credentials.json'}\n",
    "file_names = [f for f in os.listdir(current_directory) \n",
    "              if os.path.isfile(os.path.join(current_directory, f)) \n",
    "              and f not in exclude_names]\n",
    "\n",
    "for file in file_names:\n",
    "    upload_to_drive(file, file)"
   ]
  },
  {
   "cell_type": "code",
   "execution_count": 71,
   "id": "28fbb6d9-fe60-43b5-9f16-655801b04886",
   "metadata": {},
   "outputs": [
    {
     "name": "stdout",
     "output_type": "stream",
     "text": [
      "                        Date       Open       High        Low      Close  \\\n",
      "0  2023-01-02 00:00:00+05:30  60.650002  60.700001  59.799999  60.299999   \n",
      "1  2023-01-03 00:00:00+05:30  58.849998  59.549999  57.299999  58.950001   \n",
      "2  2023-01-04 00:00:00+05:30  58.400002  58.700001  56.000000  56.349998   \n",
      "3  2023-01-05 00:00:00+05:30  56.950001  57.099998  55.599998  56.200001   \n",
      "4  2023-01-06 00:00:00+05:30  56.200001  56.400002  54.950001  55.250000   \n",
      "\n",
      "     Volume  Dividends  Stock Splits  \n",
      "0  18759536        0.0           0.0  \n",
      "1  49702768        0.0           0.0  \n",
      "2  48975781        0.0           0.0  \n",
      "3  34448671        0.0           0.0  \n",
      "4  30272416        0.0           0.0  \n"
     ]
    }
   ],
   "source": [
    "import pandas as pd\n",
    "\n",
    "# Replace with your Google Drive file ID\n",
    "file_id = '13ltFR8GTSBskXeib4uWU6R7RwIpqQTf7'\n",
    "\n",
    "# Construct the direct download link\n",
    "download_link = f'https://drive.google.com/uc?id={file_id}'\n",
    "\n",
    "# Load the CSV file into a DataFrame\n",
    "df = pd.read_csv(download_link)\n",
    "\n",
    "# Display the DataFrame\n",
    "print(df.head())"
   ]
  },
  {
   "cell_type": "markdown",
   "id": "daffb94b-666c-48be-80b7-040e0c776498",
   "metadata": {},
   "source": [
    "# Upload directily on Google Drive"
   ]
  },
  {
   "cell_type": "code",
   "execution_count": 10,
   "id": "7959c346-b167-4e1f-aee0-3fd2931c56fe",
   "metadata": {},
   "outputs": [],
   "source": [
    "import pandas as pd\n",
    "from google.oauth2 import service_account\n",
    "from googleapiclient.discovery import build\n",
    "from googleapiclient.http import MediaIoBaseUpload\n",
    "import io\n",
    "# Load the credentials\n",
    "SERVICE_ACCOUNT_FILE = 'credentials.json'\n",
    "SCOPES = ['https://www.googleapis.com/auth/drive.file']\n",
    "\n",
    "credentials = service_account.Credentials.from_service_account_file(\n",
    "    SERVICE_ACCOUNT_FILE, scopes=SCOPES)\n",
    "\n",
    "# Create the Google Drive API service\n",
    "service = build('drive', 'v3', credentials=credentials)\n",
    "\n",
    "def upload_dataframe_to_drive(df, file_name):\n",
    "    df= df.reset_index()\n",
    "    FOLDER_ID = '1ivPxQsSmbUzjOaREkvULQ27LNpi5L-Tn'\n",
    "    # Convert DataFrame to CSV\n",
    "    csv_buffer = io.StringIO()\n",
    "    df.to_csv(csv_buffer, index=False)\n",
    "    csv_buffer.seek(0)\n",
    "    # Define metadata for the file\n",
    "    file_metadata = {\n",
    "        'name': file_name,\n",
    "        'parents': [FOLDER_ID] if FOLDER_ID else []\n",
    "    }\n",
    "    media = MediaIoBaseUpload(csv_buffer, mimetype='application/vnd.ms-excel')\n",
    "\n",
    "    # Upload the file\n",
    "    file = service.files().create(\n",
    "        body=file_metadata,\n",
    "        media_body=media,\n",
    "        fields='id'\n",
    "    ).execute()\n",
    "\n",
    "    print('File ID:', file.get('id'))\n",
    "\n",
    "\n"
   ]
  },
  {
   "cell_type": "code",
   "execution_count": null,
   "id": "a8c8e735-1452-4c47-979c-c5f0e7248c62",
   "metadata": {},
   "outputs": [],
   "source": [
    "# Fetch data from start_date to today\n",
    "start_date = '2023-01-01'\n",
    "end_date = pd.to_datetime('today').strftime('%Y-%m-%d')\n",
    "historical_data = fetch_historical_data(stock_symbols, start_date, end_date)\n",
    "\n",
    "# Save historical data to a CSV or database\n",
    "for symbol, data in historical_data.items():\n",
    "    upload_dataframe_to_drive(data, symbol+'.csv')"
   ]
  },
  {
   "cell_type": "markdown",
   "id": "893ba3e4-65b3-42c9-b607-2bf581db459e",
   "metadata": {},
   "source": [
    "# Upload or Update logic"
   ]
  },
  {
   "cell_type": "code",
   "execution_count": null,
   "id": "3ee73855-0ae4-4857-bb53-d2026b9d0aec",
   "metadata": {},
   "outputs": [],
   "source": [
    "# import io\n",
    "# import pandas as pd\n",
    "# from googleapiclient.http import MediaIoBaseUpload\n",
    "\n",
    "# def upload_or_update_dataframe(df, file_name):\n",
    "#     file_id = None\n",
    "#     # Check if file exists\n",
    "#     if file_exists(file_name):\n",
    "#         query = f\"name = '{file_name}'\"\n",
    "#         results = service.files().list(q=query, spaces='drive', fields=\"files(id)\").execute()\n",
    "#         file_id = results.get('files', [])[0]['id']\n",
    "    \n",
    "#     # Convert DataFrame to CSV\n",
    "#     csv_buffer = io.StringIO()\n",
    "#     df.to_csv(csv_buffer, index=False)\n",
    "#     csv_buffer.seek(0)\n",
    "\n",
    "#     if file_id:\n",
    "#         # Update existing file\n",
    "#         media = MediaIoBaseUpload(csv_buffer, mimetype='application/vnd.ms-excel')\n",
    "#         updated_file = service.files().update(\n",
    "#             fileId=file_id,\n",
    "#             media_body=media,\n",
    "#             fields='id'\n",
    "#         ).execute()\n",
    "#         print(f'File ID {updated_file.get(\"id\")} updated.')\n",
    "#     else:\n",
    "#         # Create new file\n",
    "#         file_metadata = {\n",
    "#             'name': file_name,\n",
    "#             'mimeType': 'application/vnd.ms-excel'\n",
    "#         }\n",
    "#         media = MediaIoBaseUpload(csv_buffer, mimetype='application/vnd.ms-excel')\n",
    "#         new_file = service.files().create(\n",
    "#             body=file_metadata,\n",
    "#             media_body=media,\n",
    "#             fields='id'\n",
    "#         ).execute()\n",
    "#         print(f'File ID {new_file.get(\"id\")} created.')\n",
    "\n",
    "# # Example usage\n",
    "# df = pd.DataFrame({'A': [1, 2], 'B': [3, 4]})\n",
    "# upload_or_update_dataframe(df, 'example.csv')\n"
   ]
  },
  {
   "cell_type": "code",
   "execution_count": 11,
   "id": "6996eb5c-0406-4a09-9946-d5c4477e3298",
   "metadata": {},
   "outputs": [],
   "source": [
    "# from google.oauth2 import service_account\n",
    "# from googleapiclient.discovery import build\n",
    "\n",
    "# # Load the credentials\n",
    "# SERVICE_ACCOUNT_FILE = 'path/to/credentials.json'\n",
    "# SCOPES = ['https://www.googleapis.com/auth/drive']\n",
    "\n",
    "# credentials = service_account.Credentials.from_service_account_file(\n",
    "#     SERVICE_ACCOUNT_FILE, scopes=SCOPES)\n",
    "\n",
    "# # Create the Google Drive API service\n",
    "# service = build('drive', 'v3', credentials=credentials)\n",
    "\n",
    "# def file_exists(file_name):\n",
    "#     query = f\"name = '{file_name}'\"\n",
    "#     results = service.files().list(q=query, spaces='drive', fields=\"files(id, name)\").execute()\n",
    "#     files = results.get('files', [])\n",
    "#     return len(files) > 0\n",
    "\n",
    "# # Example usage\n",
    "# file_name = 'example.csv'\n",
    "# if file_exists(file_name):\n",
    "#     print(f\"File '{file_name}' exists.\")\n",
    "# else:\n",
    "#     print(f\"File '{file_name}' does not exist.\")\n"
   ]
  },
  {
   "cell_type": "code",
   "execution_count": 11,
   "id": "556dc0c3-af82-4b39-9e43-6b58c47fc400",
   "metadata": {},
   "outputs": [
    {
     "name": "stdout",
     "output_type": "stream",
     "text": [
      "Collecting schedule\n",
      "  Downloading schedule-1.2.2-py3-none-any.whl.metadata (3.8 kB)\n",
      "Downloading schedule-1.2.2-py3-none-any.whl (12 kB)\n",
      "Installing collected packages: schedule\n",
      "Successfully installed schedule-1.2.2\n"
     ]
    },
    {
     "name": "stderr",
     "output_type": "stream",
     "text": [
      "\n",
      "[notice] A new release of pip is available: 24.1.1 -> 24.2\n",
      "[notice] To update, run: python.exe -m pip install --upgrade pip\n"
     ]
    }
   ],
   "source": [
    "!pip install schedule"
   ]
  },
  {
   "cell_type": "code",
   "execution_count": 13,
   "id": "573dd6a7-4409-4be1-816c-428394749895",
   "metadata": {},
   "outputs": [],
   "source": [
    "import schedule\n",
    "import time\n"
   ]
  },
  {
   "cell_type": "code",
   "execution_count": 14,
   "id": "10988ba6-53ce-4fba-bca7-4b19dd845639",
   "metadata": {},
   "outputs": [],
   "source": [
    "\n",
    "def job():\n",
    "    print(\"Job is running...\")\n"
   ]
  },
  {
   "cell_type": "code",
   "execution_count": 15,
   "id": "a36e2d05-d3d8-416d-a540-4ee85aa5dea2",
   "metadata": {},
   "outputs": [
    {
     "data": {
      "text/plain": [
       "Every 10 seconds do job() (last run: [never], next run: 2024-08-25 17:25:12)"
      ]
     },
     "execution_count": 15,
     "metadata": {},
     "output_type": "execute_result"
    }
   ],
   "source": [
    "\n",
    "# Schedule the job to run every 10 seconds\n",
    "schedule.every(10).seconds.do(job)\n"
   ]
  },
  {
   "cell_type": "code",
   "execution_count": null,
   "id": "c82ef214-6773-4a92-9a15-4a8b8edb8251",
   "metadata": {},
   "outputs": [],
   "source": []
  }
 ],
 "metadata": {
  "kernelspec": {
   "display_name": "Python 3 (ipykernel)",
   "language": "python",
   "name": "python3"
  },
  "language_info": {
   "codemirror_mode": {
    "name": "ipython",
    "version": 3
   },
   "file_extension": ".py",
   "mimetype": "text/x-python",
   "name": "python",
   "nbconvert_exporter": "python",
   "pygments_lexer": "ipython3",
   "version": "3.12.4"
  }
 },
 "nbformat": 4,
 "nbformat_minor": 5
}
